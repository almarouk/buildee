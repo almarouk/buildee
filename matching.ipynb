{
 "cells": [
  {
   "cell_type": "code",
   "execution_count": null,
   "id": "initial_id",
   "metadata": {},
   "outputs": [],
   "source": [
    "import cv2\n",
    "import numpy as np\n",
    "import matplotlib.pyplot as plt\n",
    "from simulator.simulator import Simulator\n",
    "\n",
    "\n",
    "def keypoints_to_colors(x, y, width, height):\n",
    "    # Normalize coordinates to range [0, 1]\n",
    "    x_norm = x / width\n",
    "    y_norm = y / height\n",
    "\n",
    "    # Compute hue based on position\n",
    "    hue = (x_norm + y_norm) / 2  # Simple gradient approach\n",
    "    # Alternative: hue = (np.arctan2(y_norm - 0.5, x_norm - 0.5) / (2 * np.pi)) % 1\n",
    "\n",
    "    # Set saturation and value to 1\n",
    "    hsv = np.stack([hue * 179, np.ones_like(hue) * 255, np.ones_like(hue) * 255], axis=-1).astype(np.uint8)\n",
    "\n",
    "    # Convert HSV to RGB\n",
    "    return cv2.cvtColor(hsv[np.newaxis, :, :], cv2.COLOR_HSV2RGB)[0]"
   ]
  },
  {
   "cell_type": "code",
   "execution_count": null,
   "id": "bb4d023ad81f2118",
   "metadata": {},
   "outputs": [],
   "source": [
    "simulator = Simulator(\n",
    "    blend_file='/home/clementin/Dev/blender-construction/construction_matching.blend',\n",
    "    points_density=100.0,\n",
    "    verbose=True\n",
    ")"
   ]
  },
  {
   "cell_type": "code",
   "execution_count": null,
   "id": "c96320556810b32b",
   "metadata": {},
   "outputs": [],
   "source": [
    "masks, uvs = [], []\n",
    "\n",
    "for _ in range(16):\n",
    "    rgb, depth, labels = simulator.render()\n",
    "    _, _, mask, uv = simulator.compute_point_cloud()\n",
    "    masks.append(mask)\n",
    "    uvs.append(uv)\n",
    "    print(simulator.scene.frame_current)\n",
    "    plt.imshow(rgb)\n",
    "    plt.show()\n",
    "    simulator.step_frame()\n",
    "\n",
    "uvs = np.stack(uvs)\n",
    "masks = np.stack(masks)\n",
    "\n",
    "valid = np.all(masks, axis=0)\n",
    "uvs = uvs[:, :, valid]\n",
    "\n",
    "# Blocks of 32x32\n",
    "_, valid = np.unique(np.int64(uvs[0] / 32), axis=1, return_index=True)\n",
    "uvs = uvs[:, :, valid]\n",
    "\n",
    "h, w, _ = rgb.shape\n",
    "colors = keypoints_to_colors(*uvs[0], w, h) / 255"
   ]
  },
  {
   "cell_type": "code",
   "execution_count": null,
   "id": "e9cc93fe-2db7-43b8-8f84-c6554ebc7e64",
   "metadata": {},
   "outputs": [],
   "source": [
    "plt.imshow(rgb)\n",
    "\n",
    "for uv, c in zip(uvs.T, colors):\n",
    "    plt.plot(*uv, c=c, lw=1, alpha=0.3)\n",
    "\n",
    "plt.scatter(*uvs[-1], c=colors, s=2, alpha=0.7)"
   ]
  },
  {
   "cell_type": "code",
   "execution_count": null,
   "id": "f61aeb91-2c63-40e2-a2d5-fb63da2a8cf3",
   "metadata": {},
   "outputs": [],
   "source": [
    "#plt.figure(figsize=(20, 20))\n",
    "plt.imshow(cv2.imread('flow_end.png')[:, :, ::-1])\n",
    "\n",
    "for uv, c in zip(uvs.T, colors):\n",
    "    plt.plot(*(uv * 1), c=c, lw=1, alpha=0.5)\n",
    "\n",
    "plt.scatter(*(uvs[-1] * 1), c=colors, s=2)\n",
    "plt.axis('off')\n",
    "plt.savefig('matching.png', bbox_inches='tight', pad_inches=0, dpi=300)"
   ]
  },
  {
   "cell_type": "code",
   "execution_count": null,
   "id": "bf3e074f-1445-46ca-b78d-948a6b1a5c9b",
   "metadata": {},
   "outputs": [],
   "source": []
  }
 ],
 "metadata": {
  "kernelspec": {
   "display_name": "Python 3 (ipykernel)",
   "language": "python",
   "name": "python3"
  },
  "language_info": {
   "codemirror_mode": {
    "name": "ipython",
    "version": 3
   },
   "file_extension": ".py",
   "mimetype": "text/x-python",
   "name": "python",
   "nbconvert_exporter": "python",
   "pygments_lexer": "ipython3",
   "version": "3.11.11"
  }
 },
 "nbformat": 4,
 "nbformat_minor": 5
}
