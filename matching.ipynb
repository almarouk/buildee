{
 "cells": [
  {
   "cell_type": "code",
   "execution_count": null,
   "id": "initial_id",
   "metadata": {},
   "outputs": [],
   "source": [
    "import cv2\n",
    "import numpy as np\n",
    "import matplotlib.pyplot as plt\n",
    "from simulator.simulator import Simulator\n",
    "\n",
    "\n",
    "def keypoints_to_colors(x, y, width, height):\n",
    "    # Normalize coordinates to range [0, 1]\n",
    "    x_norm = x / width\n",
    "    y_norm = y / height\n",
    "\n",
    "    # Compute hue based on position\n",
    "    hue = (x_norm + y_norm) / 2  # Simple gradient approach\n",
    "    # Alternative: hue = (np.arctan2(y_norm - 0.5, x_norm - 0.5) / (2 * np.pi)) % 1\n",
    "\n",
    "    # Set saturation and value to 1\n",
    "    hsv = np.stack([hue * 179, np.ones_like(hue) * 255, np.ones_like(hue) * 255], axis=-1).astype(np.uint8)\n",
    "\n",
    "    # Convert HSV to RGB\n",
    "    return cv2.cvtColor(hsv[np.newaxis, :, :], cv2.COLOR_HSV2RGB)[0]"
   ]
  },
  {
   "cell_type": "code",
   "execution_count": null,
   "id": "bb4d023ad81f2118",
   "metadata": {},
   "outputs": [],
   "source": [
    "simulator = Simulator(\n",
    "    blend_file='/home/clementin/Dev/blender-construction/construction_allimages.blend',\n",
    "    points_density=100.0,\n",
    "    verbose=True\n",
    ")"
   ]
  },
  {
   "cell_type": "code",
   "execution_count": null,
   "id": "c96320556810b32b",
   "metadata": {},
   "outputs": [],
   "source": [
    "masks, uvs = [], []\n",
    "\n",
    "for _ in range(16):\n",
    "    rgb, depth, labels = simulator.render()\n",
    "    _, _, mask, uv = simulator.compute_point_cloud()\n",
    "    masks.append(mask)\n",
    "    uvs.append(uv)\n",
    "    print(simulator.scene.frame_current)\n",
    "    plt.imshow(rgb)\n",
    "    plt.show()\n",
    "    simulator.step_frame()\n",
    "\n",
    "uvs = np.stack(uvs)\n",
    "masks = np.stack(masks)\n",
    "\n",
    "valid = np.all(masks, axis=0)\n",
    "uvs = uvs[:, :, valid]\n",
    "\n",
    "# Blocks of 32x32\n",
    "_, valid = np.unique(np.int64(uvs[0] / 32), axis=1, return_index=True)\n",
    "uvs = uvs[:, :, valid]\n",
    "\n",
    "h, w, _ = rgb.shape\n",
    "colors = keypoints_to_colors(*uvs[0], w, h) / 255"
   ]
  },
  {
   "cell_type": "code",
   "execution_count": null,
   "id": "e9cc93fe-2db7-43b8-8f84-c6554ebc7e64",
   "metadata": {},
   "outputs": [],
   "source": [
    "plt.imshow(rgb)\n",
    "\n",
    "for uv, c in zip(uvs.T, colors):\n",
    "    plt.plot(*uv, c=c, lw=1, alpha=0.3)\n",
    "\n",
    "plt.scatter(*uvs[-1], c=colors, s=2, alpha=0.7)"
   ]
  },
  {
   "cell_type": "code",
   "execution_count": null,
   "id": "f61aeb91-2c63-40e2-a2d5-fb63da2a8cf3",
   "metadata": {},
   "outputs": [],
   "source": [
    "#plt.figure(figsize=(20, 20))\n",
    "plt.imshow(cv2.imread('all_end.png')[:, :, ::-1])\n",
    "\n",
    "for uv, c in zip(uvs.T, colors):\n",
    "    plt.plot(*(uv * 1), c=c, lw=1, alpha=0.5)\n",
    "\n",
    "plt.scatter(*(uvs[-1] * 1), c=colors, s=2)\n",
    "plt.axis('off')\n",
    "plt.savefig('matching.png', bbox_inches='tight', pad_inches=0, dpi=300)"
   ]
  },
  {
   "cell_type": "code",
   "execution_count": null,
   "id": "bfbecab8-919a-4c93-934f-c0e69a840b34",
   "metadata": {},
   "outputs": [],
   "source": [
    "depth[depth > 98] = 0"
   ]
  },
  {
   "cell_type": "code",
   "execution_count": null,
   "id": "a54a0c37-e0db-43c8-9d95-c4b4bfcb458b",
   "metadata": {},
   "outputs": [],
   "source": [
    "plt.imshow(np.log(0.5 * depth + 40), cmap='RdYlGn')\n",
    "plt.axis('off')\n",
    "plt.savefig('depth.png', bbox_inches='tight', pad_inches=0, dpi=300)"
   ]
  },
  {
   "cell_type": "code",
   "execution_count": null,
   "id": "8d56ddc3-d7d8-4b9d-94d3-e976648ce9fa",
   "metadata": {},
   "outputs": [],
   "source": [
    "label_colors = {\n",
    "    'Building': np.array([90, 90, 90], dtype=np.uint8),  # Neutral gray\n",
    "    'Scaffolding': np.array([230, 180, 190], dtype=np.uint8),  # Soft red\n",
    "    'Plastic barrel': np.array([0, 80, 200], dtype=np.uint8),  # Bright blue\n",
    "    'CardboardBox': np.array([210, 180, 140], dtype=np.uint8),  # Light brown\n",
    "    'Wheelbarrow': np.array([150, 40, 50], dtype=np.uint8),  # Rusty brown\n",
    "    'Boulder': np.array([170, 160, 150], dtype=np.uint8),  # Rock gray\n",
    "    'Grass': np.array([60, 180, 75], dtype=np.uint8),  # Vibrant green\n",
    "    'Crane': np.array([255, 165, 0], dtype=np.uint8),  # Construction orange\n",
    "    'Container': np.array([200, 0, 0], dtype=np.uint8),  # Bold red\n",
    "    'Steel beam': np.array([128, 128, 128], dtype=np.uint8),  # Steel gray\n",
    "    'Acrow Prop': np.array([140, 160, 60], dtype=np.uint8),  # Yellow-green for visibility\n",
    "    'PVC': np.array([50, 50, 50], dtype=np.uint8),  # Almost black\n",
    "    'Palette': np.array([130, 140, 90], dtype=np.uint8),  # Warm wood tone\n",
    "    'Terrain': np.array([150, 110, 90], dtype=np.uint8),  # Reddish-brown for contrast\n",
    "    'Bulldozer': np.array([255, 200, 0], dtype=np.uint8),  # High-visibility yellow\n",
    "    'WoodenBox': np.array([190, 120, 60], dtype=np.uint8),  # Darker wood tone\n",
    "    'Toilet': np.array([80, 160, 220], dtype=np.uint8),  # Light blue\n",
    "    'Fence': np.array([30, 150, 120], dtype=np.uint8),  # Teal green\n",
    "    'Wooden planks': np.array([175, 120, 60], dtype=np.uint8),  # Golden brown  \n",
    "    'Generator engine': np.array([40, 60, 90], dtype=np.uint8), # Dark navy blue  \n",
    "    'Truck': np.array([0, 130, 200], dtype=np.uint8),           # Strong cyan blue  \n",
    "    'Concrete mixer': np.array([240, 130, 40], dtype=np.uint8), # Bright orange  \n",
    "    'Cement bag': np.array([190, 180, 160], dtype=np.uint8)     # Dusty gray-beige\n",
    "}"
   ]
  },
  {
   "cell_type": "code",
   "execution_count": null,
   "id": "abf7585b-8fec-4fa9-b13b-b593e3440c64",
   "metadata": {},
   "outputs": [],
   "source": [
    "colors = np.zeros_like(rgb)\n",
    "for l in np.unique(labels):\n",
    "    if l >= 0:\n",
    "        label_color = label_colors[simulator.labels[l]] / 255\n",
    "        colors[labels == l] = label_color"
   ]
  },
  {
   "cell_type": "code",
   "execution_count": null,
   "id": "95233a7c-b012-4657-a8d3-d865f72992a1",
   "metadata": {},
   "outputs": [],
   "source": [
    "plt.imshow(colors)\n",
    "plt.axis('off')\n",
    "plt.savefig('semantic.png', bbox_inches='tight', pad_inches=0, dpi=300)"
   ]
  },
  {
   "cell_type": "code",
   "execution_count": null,
   "id": "fef89f82-8298-4ab9-90ea-9f5109f3d262",
   "metadata": {},
   "outputs": [],
   "source": []
  }
 ],
 "metadata": {
  "kernelspec": {
   "display_name": "Python 3 (ipykernel)",
   "language": "python",
   "name": "python3"
  },
  "language_info": {
   "codemirror_mode": {
    "name": "ipython",
    "version": 3
   },
   "file_extension": ".py",
   "mimetype": "text/x-python",
   "name": "python",
   "nbconvert_exporter": "python",
   "pygments_lexer": "ipython3",
   "version": "3.11.11"
  }
 },
 "nbformat": 4,
 "nbformat_minor": 5
}
