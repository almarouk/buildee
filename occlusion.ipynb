{
 "cells": [
  {
   "cell_type": "code",
   "execution_count": null,
   "id": "initial_id",
   "metadata": {},
   "outputs": [],
   "source": [
    "import cv2\n",
    "import numpy as np\n",
    "import open3d as o3d\n",
    "import matplotlib.pyplot as plt\n",
    "from simulator.simulator import Simulator\n",
    "\n",
    "\n",
    "label_colors = {\n",
    "    'Building': np.array([90, 90, 90], dtype=np.uint8),  # Neutral gray\n",
    "    'Scaffolding': np.array([230, 180, 190], dtype=np.uint8),  # Soft red\n",
    "    'Plastic barrel': np.array([0, 80, 200], dtype=np.uint8),  # Bright blue\n",
    "    'CardboardBox': np.array([210, 180, 140], dtype=np.uint8),  # Light brown\n",
    "    'Wheelbarrow': np.array([150, 40, 50], dtype=np.uint8),  # Rusty brown\n",
    "    'Boulder': np.array([170, 160, 150], dtype=np.uint8),  # Rock gray\n",
    "    'Grass': np.array([60, 180, 75], dtype=np.uint8),  # Vibrant green\n",
    "    'Crane': np.array([255, 165, 0], dtype=np.uint8),  # Construction orange\n",
    "    'Container': np.array([200, 0, 0], dtype=np.uint8),  # Bold red\n",
    "    'Steel beam': np.array([128, 128, 128], dtype=np.uint8),  # Steel gray\n",
    "    'Acrow Prop': np.array([140, 160, 60], dtype=np.uint8),  # Yellow-green for visibility\n",
    "    'PVC': np.array([50, 50, 50], dtype=np.uint8),  # Almost black\n",
    "    'Palette': np.array([130, 140, 90], dtype=np.uint8),  # Warm wood tone\n",
    "    'Terrain': np.array([150, 110, 90], dtype=np.uint8),  # Reddish-brown for contrast\n",
    "    'Bulldozer': np.array([255, 200, 0], dtype=np.uint8),  # High-visibility yellow\n",
    "    'WoodenBox': np.array([190, 120, 60], dtype=np.uint8),  # Darker wood tone\n",
    "    'Toilet': np.array([80, 160, 220], dtype=np.uint8),  # Light blue\n",
    "    'Fence': np.array([30, 150, 120], dtype=np.uint8),  # Teal green\n",
    "    'Wooden planks': np.array([175, 120, 60], dtype=np.uint8),  # Golden brown  \n",
    "    'Generator engine': np.array([40, 60, 90], dtype=np.uint8), # Dark navy blue  \n",
    "    'Truck': np.array([0, 130, 200], dtype=np.uint8),           # Strong cyan blue  \n",
    "    'Concrete mixer': np.array([240, 130, 40], dtype=np.uint8), # Bright orange  \n",
    "    'Cement bag': np.array([190, 180, 160], dtype=np.uint8)     # Dusty gray-beige\n",
    "}"
   ]
  },
  {
   "cell_type": "code",
   "execution_count": null,
   "id": "bb4d023ad81f2118",
   "metadata": {},
   "outputs": [],
   "source": [
    "simulator = Simulator(\n",
    "    blend_file='/home/clementin/Dev/blender-construction/occlusionconstruction.blend',\n",
    "    points_density=400.0,\n",
    "    verbose=True\n",
    ")"
   ]
  },
  {
   "cell_type": "code",
   "execution_count": null,
   "id": "c96320556810b32b",
   "metadata": {},
   "outputs": [],
   "source": [
    "rgb, depth, labels = simulator.render()\n",
    "pts, labels, mask, _ = simulator.compute_point_cloud()"
   ]
  },
  {
   "cell_type": "code",
   "execution_count": null,
   "id": "e9cc93fe-2db7-43b8-8f84-c6554ebc7e64",
   "metadata": {},
   "outputs": [],
   "source": [
    "colors = np.zeros((len(pts), 3))\n",
    "for label in np.unique(labels):\n",
    "    label_color = label_colors[simulator.labels[label]] / 255\n",
    "    colors[labels == label] = label_color\n",
    "\n",
    "pcl = o3d.geometry.PointCloud()\n",
    "pcl.points = o3d.utility.Vector3dVector(pts)\n",
    "pcl.colors = o3d.utility.Vector3dVector(colors)\n",
    "o3d.visualization.draw_geometries([pcl])"
   ]
  },
  {
   "cell_type": "code",
   "execution_count": null,
   "id": "9fc3226c-ace5-44f5-8e4e-9728a56fe067",
   "metadata": {},
   "outputs": [],
   "source": [
    "pcl_occluded = o3d.geometry.PointCloud()\n",
    "pcl_occluded.points = o3d.utility.Vector3dVector(pts[~mask])\n",
    "pcl_occluded.colors = o3d.utility.Vector3dVector(colors[~mask])\n",
    "o3d.io.write_point_cloud('pcl_occluded.ply', pcl_occluded)\n",
    "\n",
    "pcl_visible = o3d.geometry.PointCloud()\n",
    "pcl_visible.points = o3d.utility.Vector3dVector(pts[mask])\n",
    "pcl_visible.colors = o3d.utility.Vector3dVector(colors[mask])\n",
    "o3d.io.write_point_cloud('pcl_visible.ply', pcl_visible)"
   ]
  },
  {
   "cell_type": "code",
   "execution_count": null,
   "id": "d0f914f7-0e22-4d9a-9da9-fde1b3144787",
   "metadata": {},
   "outputs": [],
   "source": []
  }
 ],
 "metadata": {
  "kernelspec": {
   "display_name": "Python 3 (ipykernel)",
   "language": "python",
   "name": "python3"
  },
  "language_info": {
   "codemirror_mode": {
    "name": "ipython",
    "version": 3
   },
   "file_extension": ".py",
   "mimetype": "text/x-python",
   "name": "python",
   "nbconvert_exporter": "python",
   "pygments_lexer": "ipython3",
   "version": "3.11.11"
  }
 },
 "nbformat": 4,
 "nbformat_minor": 5
}
